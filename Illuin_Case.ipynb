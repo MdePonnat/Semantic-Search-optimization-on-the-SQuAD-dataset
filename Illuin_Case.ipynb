{
 "cells": [
  {
   "cell_type": "code",
   "execution_count": 91,
   "id": "f1afe7dc",
   "metadata": {},
   "outputs": [],
   "source": [
    "import json\n",
    "import numpy as np\n",
    "import random\n",
    "import time\n",
    "from math import sqrt\n",
    "from sentence_transformers import SentenceTransformer, util\n",
    "import matplotlib.pyplot as plt"
   ]
  },
  {
   "cell_type": "code",
   "execution_count": 25,
   "id": "6c7f43e9",
   "metadata": {},
   "outputs": [],
   "source": [
    "f = open(\"/Users/Marc/Downloads/squad1.1/train-v1.1.json\")\n",
    "f_test = open(\"/Users/Marc/Downloads/squad1.1/dev-v1.1.json\")\n",
    "data = json.load(f)\n",
    "data_train = random.sample(data['data'], 100) # Training dataset\n",
    "data_test = json.load(f_test)['data'] # Test dataset"
   ]
  },
  {
   "cell_type": "code",
   "execution_count": 86,
   "id": "26288b08",
   "metadata": {},
   "outputs": [],
   "source": [
    "def create_embeddings(model, questions, contexts):   \n",
    "    return (model.encode(questions[:,0]), model.encode(contexts))\n",
    "\n",
    "def mean_accuracy(model,questions, contexts):\n",
    "    t=time.time()\n",
    "    N_questions=len(questions)\n",
    "    questions_emb, contexts_emb  = create_embeddings(model, questions, contexts)\n",
    "    #print(time.time()-t)\n",
    "    if model == model_msmarco:\n",
    "        score_function = util.dot_score\n",
    "    else:\n",
    "        score_function = util.pytorch_cos_sim\n",
    "    \n",
    "    predictions = util.semantic_search(questions_emb,\n",
    "                     contexts_emb,\n",
    "                     top_k = 1,\n",
    "                     query_chunk_size = 100000,\n",
    "                     score_function = score_function)\n",
    "    \n",
    "    #print(time.time()-t)\n",
    "    inc = 0\n",
    "    idx = 0\n",
    "    for res in predictions:\n",
    "        inc+=int(res[0]['corpus_id'] == int(questions[idx,1]))\n",
    "        idx+=1\n",
    "    mean_accuracy = inc/N_questions\n",
    "    return [mean_accuracy, time.time() - t]\n",
    "\n",
    "def n_1st_mean_accuracy(model,questions, questions_emb, contexts_emb, n):\n",
    "    t=time.time()\n",
    "    N_questions=len(questions_emb)\n",
    "    #print(N_questions)\n",
    "    #print(time.time()-t)\n",
    "    if model == model_msmarco:\n",
    "        score_function = util.dot_score\n",
    "    else:\n",
    "        score_function = util.pytorch_cos_sim\n",
    "    \n",
    "    predictions = util.semantic_search(questions_emb,\n",
    "                     contexts_emb,\n",
    "                     top_k = n,\n",
    "                     query_chunk_size = 100000)\n",
    "    \n",
    "    #print(time.time()-t)\n",
    "    inc = 0\n",
    "    idx = 0\n",
    "   # print(predictions)\n",
    "    for res in predictions:\n",
    "      #  print(res)\n",
    "        ctx_ids = []\n",
    "        for ctx in res:\n",
    "           # print(ctx)\n",
    "            ctx_ids.append(ctx['corpus_id'])\n",
    "           # print(ctx_ids)\n",
    "            #print(questions[idx,1])\n",
    "        inc+=int(questions[idx][1] in ctx_ids)\n",
    "        idx+=1\n",
    "    mean_accuracy = inc/N_questions\n",
    "    return [mean_accuracy, time.time() - t]"
   ]
  },
  {
   "cell_type": "markdown",
   "id": "706b664e",
   "metadata": {},
   "source": [
    "# Optimisation on the Squad training data"
   ]
  },
  {
   "cell_type": "code",
   "execution_count": 17,
   "id": "9d867946",
   "metadata": {},
   "outputs": [],
   "source": [
    "N_thm = len(data_train)\n",
    "C_train = [] # List of training contexts\n",
    "Q_train = [] # List of training questions and corresponding contexts indicies\n",
    "n_ctx = 0\n",
    "for thm in range(N_thm):\n",
    "    for ctx in range(len(data_train[thm]['paragraphs'])):\n",
    "        C_train.append(data_train[thm]['paragraphs'][ctx]['context'])\n",
    "        for qst in range(len(data_train[thm]['paragraphs'][ctx]['qas'])):  \n",
    "            Q_train.append([data_train[thm]['paragraphs'][ctx]['qas'][qst]['question'], n_ctx])\n",
    "        n_ctx+=1\n",
    "Q_train_arr = np.array(Q_train)"
   ]
  },
  {
   "cell_type": "code",
   "execution_count": 9,
   "id": "8e18fc9b",
   "metadata": {},
   "outputs": [],
   "source": [
    "model_msmarco = SentenceTransformer('msmarco-distilbert-base-tas-b')\n",
    "model_msmarco_cos = SentenceTransformer('msmarco-distilbert-base-v4')\n",
    "model_all = SentenceTransformer('all-mpnet-base-v2')\n",
    "model_mini = SentenceTransformer('all-MiniLM-L12-v2')\n",
    "models = [model_msmarco,model_msmarco_cos,model_all, model_mini]"
   ]
  },
  {
   "cell_type": "code",
   "execution_count": 18,
   "id": "2471b8e1",
   "metadata": {},
   "outputs": [
    {
     "name": "stdout",
     "output_type": "stream",
     "text": [
      "2175.803215742111\n",
      "2178.616759777069\n",
      "1638.958431005478\n",
      "1641.8544561862946\n",
      "3556.789417028427\n",
      "3559.072776079178\n",
      "787.9021167755127\n",
      "792.8327009677887\n"
     ]
    }
   ],
   "source": [
    "mean_accuracies = []\n",
    "for model in models:\n",
    "    mean_accuracies = mean_accuracies + [mean_accuracy(model, Q_train_arr, C_train)]"
   ]
  },
  {
   "cell_type": "code",
   "execution_count": 19,
   "id": "a399301d",
   "metadata": {},
   "outputs": [
    {
     "data": {
      "text/plain": [
       "[[0.6696856686201386, 2178.710517883301],\n",
       " [0.5651668523272146, 1641.9281451702118],\n",
       " [0.6830047948854555, 3559.1809120178223],\n",
       " [0.6410132222598924, 792.9442980289459]]"
      ]
     },
     "execution_count": 19,
     "metadata": {},
     "output_type": "execute_result"
    }
   ],
   "source": [
    "mean_accuracies"
   ]
  },
  {
   "cell_type": "code",
   "execution_count": 21,
   "id": "442387a9",
   "metadata": {},
   "outputs": [],
   "source": [
    "mean_accuracies_arr= np.array(mean_accuracies)"
   ]
  },
  {
   "cell_type": "code",
   "execution_count": 20,
   "id": "14f535eb",
   "metadata": {},
   "outputs": [
    {
     "data": {
      "text/plain": [
       "(20647, 2)"
      ]
     },
     "execution_count": 20,
     "metadata": {},
     "output_type": "execute_result"
    }
   ],
   "source": [
    "np.shape(Q_train_arr)"
   ]
  },
  {
   "cell_type": "code",
   "execution_count": 23,
   "id": "e0eee881",
   "metadata": {},
   "outputs": [
    {
     "data": {
      "text/plain": [
       "array([0.00624228, 0.00444585, 0.00649305, 0.0057192 ])"
      ]
     },
     "execution_count": 23,
     "metadata": {},
     "output_type": "execute_result"
    }
   ],
   "source": [
    "2*mean_accuracies_arr[:,0]**2/sqrt(np.shape(Q_train_arr)[0])"
   ]
  },
  {
   "cell_type": "markdown",
   "id": "ab3c5f22",
   "metadata": {},
   "source": [
    "# Test on the Squad test data"
   ]
  },
  {
   "cell_type": "code",
   "execution_count": 26,
   "id": "1035b549",
   "metadata": {},
   "outputs": [],
   "source": [
    "N_thm_test = len(data_test)\n",
    "C_test = [] # List of test contexts\n",
    "Q_test = [] # List of test questions and corresponding contexts indicies\n",
    "n_ctx = 0\n",
    "for thm in range(N_thm_test):\n",
    "    for ctx in range(len(data_test[thm]['paragraphs'])):\n",
    "        C_test.append(data_test[thm]['paragraphs'][ctx]['context'])\n",
    "        for qst in range(len(data_test[thm]['paragraphs'][ctx]['qas'])):  \n",
    "            Q_test.append([data_test[thm]['paragraphs'][ctx]['qas'][qst]['question'], n_ctx])\n",
    "        n_ctx+=1\n",
    "Q_test_arr = np.array(Q_test)"
   ]
  },
  {
   "cell_type": "code",
   "execution_count": 29,
   "id": "c7eb948e",
   "metadata": {},
   "outputs": [
    {
     "name": "stdout",
     "output_type": "stream",
     "text": [
      "2179.7432658672333\n",
      "2180.373449087143\n"
     ]
    }
   ],
   "source": [
    "test_accuracy = mean_accuracy(model_all)"
   ]
  },
  {
   "cell_type": "code",
   "execution_count": 31,
   "id": "62df4905",
   "metadata": {},
   "outputs": [
    {
     "data": {
      "text/plain": [
       "[0.6545884578997162, 2180.4102759361267]"
      ]
     },
     "execution_count": 31,
     "metadata": {},
     "output_type": "execute_result"
    }
   ],
   "source": [
    "test_accuracy"
   ]
  },
  {
   "cell_type": "code",
   "execution_count": 61,
   "id": "0e8bbe5b",
   "metadata": {},
   "outputs": [],
   "source": [
    "Q_test_embedded = model_all.encode(Q_test_arr[:,0])\n",
    "C_test_embedded = model_all.encode(C_test)"
   ]
  },
  {
   "cell_type": "code",
   "execution_count": 110,
   "id": "38c60062",
   "metadata": {},
   "outputs": [],
   "source": [
    "Nth = np.arange(1,16)\n",
    "Nth_test_accuracies = []\n",
    "for n in Nth:\n",
    "    Nth_test_accuracies.append(n_1st_mean_accuracy(model_all, Q_test, Q_test_embedded, C_test_embedded, n))"
   ]
  },
  {
   "cell_type": "code",
   "execution_count": 111,
   "id": "a69257b3",
   "metadata": {},
   "outputs": [],
   "source": [
    "Nth_test_accuracies_arr = np.array(Nth_test_accuracies)"
   ]
  },
  {
   "cell_type": "code",
   "execution_count": 114,
   "id": "cc371827",
   "metadata": {},
   "outputs": [
    {
     "data": {
      "image/png": "[encoded data removed]",
      "text/plain": [
       "<Figure size 1008x576 with 1 Axes>"
      ]
     },
     "metadata": {
      "needs_background": "light"
     },
     "output_type": "display_data"
    }
   ],
   "source": [
    "plt.figure(figsize=(14, 8))\n",
    "plt.xlabel('number of first contexts', fontsize = 18)\n",
    "plt.ylabel('Accuracy', fontsize = 18)\n",
    "plt.xticks(fontsize = 15)\n",
    "plt.yticks(fontsize = 15)\n",
    "plt.ylim((0.6,1))\n",
    "plt.plot(Nth, Nth_test_accuracies_arr[:,0],'-o'\n",
    "         ,markersize=7)\n",
    "\n",
    "plt.grid(linestyle='--')\n",
    "plt.savefig(\"Acc_nctx.pdf\", format=\"pdf\", bbox_inches=\"tight\")\n",
    "plt.show()"
   ]
  },
  {
   "cell_type": "markdown",
   "id": "14356a03",
   "metadata": {},
   "source": [
    "# Module livrable"
   ]
  },
  {
   "cell_type": "code",
   "execution_count": 91,
   "id": "c9796242",
   "metadata": {},
   "outputs": [],
   "source": [
    "import json\n",
    "import numpy as np\n",
    "import random\n",
    "import time\n",
    "from math import sqrt\n",
    "from sentence_transformers import SentenceTransformer, util\n",
    "import matplotlib.pyplot as plt"
   ]
  },
  {
   "cell_type": "code",
   "execution_count": 25,
   "id": "ff37e30c",
   "metadata": {},
   "outputs": [],
   "source": [
    "f_test = open(\"/Users/Marc/Downloads/squad1.1/dev-v1.1.json\")\n",
    "data_test = json.load(f_test)['data'] # Test dataset"
   ]
  },
  {
   "cell_type": "code",
   "execution_count": 26,
   "id": "e4a05b47",
   "metadata": {},
   "outputs": [],
   "source": [
    "N_thm_test = len(data_test)\n",
    "C_test = [] # List of test contexts\n",
    "Q_test = [] # List of test questions and corresponding contexts indicies\n",
    "n_ctx = 0\n",
    "for thm in range(N_thm_test):\n",
    "    for ctx in range(len(data_test[thm]['paragraphs'])):\n",
    "        C_test.append(data_test[thm]['paragraphs'][ctx]['context'])\n",
    "        for qst in range(len(data_test[thm]['paragraphs'][ctx]['qas'])):  \n",
    "            Q_test.append([data_test[thm]['paragraphs'][ctx]['qas'][qst]['question'], n_ctx])\n",
    "        n_ctx+=1\n",
    "Q_test_arr = np.array(Q_test)"
   ]
  },
  {
   "cell_type": "code",
   "execution_count": null,
   "id": "37d143f8",
   "metadata": {},
   "outputs": [],
   "source": [
    "C_test_embedded = model_all.encode(C_test) # Embedded list of contexts"
   ]
  },
  {
   "cell_type": "code",
   "execution_count": 60,
   "id": "741bfc45",
   "metadata": {},
   "outputs": [],
   "source": [
    "def find_context(question, contexts=C_test, contexts_emb=C_test_embedded):\n",
    "    question_emb = model_all.encode(question)\n",
    "    prediction = util.semantic_search(question_emb,\n",
    "                     contexts_emb,\n",
    "                     top_k = 1,\n",
    "                     query_chunk_size = 100000)\n",
    "    context_id = int(prediction[0][0]['corpus_id'])\n",
    "    return contexts[context_id]"
   ]
  },
  {
   "cell_type": "code",
   "execution_count": 121,
   "id": "d5e75a33",
   "metadata": {},
   "outputs": [
    {
     "name": "stdout",
     "output_type": "stream",
     "text": [
      "Nikola Tesla (Serbian Cyrillic: Никола Тесла; 10 July 1856 – 7 January 1943) was a Serbian American inventor, electrical engineer, mechanical engineer, physicist, and futurist best known for his contributions to the design of the modern alternating current (AC) electricity supply system.\n",
      "\n",
      "time elapsed: 0.11606216430664062 sec\n"
     ]
    }
   ],
   "source": [
    "# Example\n",
    "t = time.time()\n",
    "print(find_context(\"When did Nikola Tesla die?\", C_test, C_test_embedded))\n",
    "print(\"\\ntime elapsed:\",time.time()-t,\"sec\")"
   ]
  },
  {
   "cell_type": "code",
   "execution_count": null,
   "id": "d7a29c86",
   "metadata": {},
   "outputs": [],
   "source": []
  }
 ],
 "metadata": {
  "kernelspec": {
   "display_name": "Python 3",
   "language": "python",
   "name": "python3"
  },
  "language_info": {
   "codemirror_mode": {
    "name": "ipython",
    "version": 3
   },
   "file_extension": ".py",
   "mimetype": "text/x-python",
   "name": "python",
   "nbconvert_exporter": "python",
   "pygments_lexer": "ipython3",
   "version": "3.7.10"
  }
 },
 "nbformat": 4,
 "nbformat_minor": 5
}
